{
 "cells": [
  {
   "cell_type": "code",
   "execution_count": 1,
   "metadata": {
    "collapsed": false
   },
   "outputs": [
    {
     "name": "stderr",
     "output_type": "stream",
     "text": [
      "Using TensorFlow backend.\n"
     ]
    }
   ],
   "source": [
    "import numpy as np\n",
    "import keras\n",
    "from keras.models import Sequential\n",
    "from keras.layers import Dense, Dropout, Flatten\n",
    "from keras.layers import Conv2D, MaxPooling2D\n",
    "from keras.optimizers import SGD"
   ]
  },
  {
   "cell_type": "code",
   "execution_count": 7,
   "metadata": {
    "collapsed": false
   },
   "outputs": [
    {
     "name": "stdout",
     "output_type": "stream",
     "text": [
      "(100, 100, 100, 3)\n",
      "(100, 10)\n"
     ]
    }
   ],
   "source": [
    "# Generate dummy data\n",
    "x_train = np.random.random((100, 100, 100, 3))\n",
    "y_train = keras.utils.to_categorical(np.random.randint(10, size=(100, 1)), num_classes=10)\n",
    "print x_train.shape\n",
    "print y_train.shape\n",
    "x_test = np.random.random((20, 100, 100, 3))\n",
    "y_test = keras.utils.to_categorical(np.random.randint(10, size=(20, 1)), num_classes=10)"
   ]
  },
  {
   "cell_type": "code",
   "execution_count": 3,
   "metadata": {
    "collapsed": true
   },
   "outputs": [],
   "source": [
    "model = Sequential()\n",
    "# input: 100x100 images with 3 channels -> (100, 100, 3) tensors.\n",
    "# this applies 32 convolution filters of size 3x3 each.\n",
    "model.add(Conv2D(32, (3, 3), activation='relu', input_shape=(100, 100, 3)))\n",
    "model.add(Conv2D(32, (3, 3), activation='relu'))\n",
    "model.add(MaxPooling2D(pool_size=(2, 2)))\n",
    "model.add(Dropout(0.25))\n",
    "\n",
    "model.add(Conv2D(64, (3, 3), activation='relu'))\n",
    "model.add(Conv2D(64, (3, 3), activation='relu'))\n",
    "model.add(MaxPooling2D(pool_size=(2, 2)))\n",
    "model.add(Dropout(0.25))\n",
    "\n",
    "model.add(Flatten())\n",
    "model.add(Dense(256, activation='relu'))\n",
    "model.add(Dropout(0.5))\n",
    "model.add(Dense(10, activation='softmax'))"
   ]
  },
  {
   "cell_type": "code",
   "execution_count": 4,
   "metadata": {
    "collapsed": false
   },
   "outputs": [
    {
     "name": "stdout",
     "output_type": "stream",
     "text": [
      "Epoch 1/10\n",
      "100/100 [==============================] - 3s - loss: 2.3691     \n",
      "Epoch 2/10\n",
      "100/100 [==============================] - 2s - loss: 2.3197     \n",
      "Epoch 3/10\n",
      "100/100 [==============================] - 2s - loss: 2.2775     \n",
      "Epoch 4/10\n",
      "100/100 [==============================] - 2s - loss: 2.2708     \n",
      "Epoch 5/10\n",
      "100/100 [==============================] - 3s - loss: 2.2530     \n",
      "Epoch 6/10\n",
      "100/100 [==============================] - 3s - loss: 2.2626     \n",
      "Epoch 7/10\n",
      "100/100 [==============================] - 3s - loss: 2.2507     \n",
      "Epoch 8/10\n",
      "100/100 [==============================] - 3s - loss: 2.2674     \n",
      "Epoch 9/10\n",
      "100/100 [==============================] - 3s - loss: 2.2637     \n",
      "Epoch 10/10\n",
      "100/100 [==============================] - 3s - loss: 2.2692     \n"
     ]
    },
    {
     "data": {
      "text/plain": [
       "<keras.callbacks.History at 0x11d1f8ad0>"
      ]
     },
     "execution_count": 4,
     "metadata": {},
     "output_type": "execute_result"
    }
   ],
   "source": [
    "sgd = SGD(lr=0.01, decay=1e-6, momentum=0.9, nesterov=True)\n",
    "model.compile(loss='categorical_crossentropy', optimizer=sgd)\n",
    "\n",
    "model.fit(x_train, y_train, batch_size=32, epochs=10)"
   ]
  },
  {
   "cell_type": "code",
   "execution_count": 6,
   "metadata": {
    "collapsed": false
   },
   "outputs": [
    {
     "name": "stdout",
     "output_type": "stream",
     "text": [
      "20/20 [==============================] - 0s\n",
      "2.2822637558\n"
     ]
    }
   ],
   "source": [
    "score = model.evaluate(x_test, y_test, batch_size=32)\n",
    "print score"
   ]
  },
  {
   "cell_type": "code",
   "execution_count": 8,
   "metadata": {
    "collapsed": false
   },
   "outputs": [
    {
     "name": "stdout",
     "output_type": "stream",
     "text": [
      "[[ 0.11666948  0.09496442  0.08701921  0.11587414  0.13084574  0.07782105\n",
      "   0.0786409   0.1266083   0.08062075  0.09093608]\n",
      " [ 0.11628307  0.09552566  0.08710033  0.11551908  0.13085563  0.07805967\n",
      "   0.07860243  0.12664355  0.0807254   0.09068513]\n",
      " [ 0.11652493  0.09545998  0.08671059  0.11608971  0.13056414  0.07776377\n",
      "   0.0785656   0.12660685  0.08062865  0.09108584]\n",
      " [ 0.11625579  0.09555595  0.08649718  0.11625595  0.13065036  0.07752745\n",
      "   0.07844764  0.12669343  0.08078778  0.09132852]\n",
      " [ 0.11668366  0.0952452   0.08671352  0.11614952  0.13097355  0.07786236\n",
      "   0.07846916  0.12683366  0.08055006  0.09051928]\n",
      " [ 0.11639718  0.09538802  0.08684913  0.11653323  0.13076337  0.07742371\n",
      "   0.07841326  0.12716876  0.08030471  0.09075858]\n",
      " [ 0.11675485  0.09539633  0.08688176  0.1160413   0.13021287  0.07778244\n",
      "   0.07853612  0.12677103  0.08064459  0.0909787 ]\n",
      " [ 0.11645592  0.09493396  0.08679444  0.11613705  0.13062339  0.07790866\n",
      "   0.0786153   0.12705724  0.08067355  0.09080055]\n",
      " [ 0.11630578  0.09551384  0.08675982  0.11666513  0.13057284  0.07780717\n",
      "   0.07834736  0.1266872   0.08042023  0.09092066]\n",
      " [ 0.11694569  0.09512138  0.08677511  0.11591063  0.13088268  0.07753734\n",
      "   0.07859636  0.12673256  0.08057536  0.09092287]\n",
      " [ 0.11687385  0.09553171  0.08677027  0.11675636  0.1307499   0.07732617\n",
      "   0.07827456  0.12631021  0.08064935  0.09075762]\n",
      " [ 0.11635122  0.09526992  0.08677641  0.11608845  0.13118137  0.07797602\n",
      "   0.07842983  0.12637085  0.08039656  0.09115928]\n",
      " [ 0.11673482  0.09550568  0.08662052  0.11655568  0.13030811  0.07767414\n",
      "   0.07842851  0.12687494  0.08072811  0.09056955]\n",
      " [ 0.11669479  0.09545372  0.08686557  0.11605493  0.13086708  0.0776184\n",
      "   0.07847258  0.12648615  0.08071472  0.0907721 ]\n",
      " [ 0.1165913   0.09544508  0.08675106  0.11603054  0.13116018  0.07762799\n",
      "   0.07808955  0.12661661  0.0805578   0.09112986]\n",
      " [ 0.1164067   0.09545523  0.08657456  0.11579279  0.13122588  0.07770687\n",
      "   0.07844151  0.12717399  0.08042332  0.09079919]\n",
      " [ 0.11642858  0.09547452  0.0865982   0.11588019  0.13116388  0.07758842\n",
      "   0.07859071  0.1267143   0.08062236  0.09093885]\n",
      " [ 0.11652593  0.09523074  0.08690514  0.11639265  0.13081111  0.07792049\n",
      "   0.07858694  0.12641749  0.08054151  0.09066803]\n",
      " [ 0.11662539  0.09520857  0.08690105  0.11618169  0.1308888   0.07779979\n",
      "   0.07821434  0.1267684   0.08046064  0.09095136]\n",
      " [ 0.11642601  0.09534797  0.08673608  0.11654472  0.13008873  0.07759562\n",
      "   0.07856552  0.12697943  0.08076407  0.09095184]]\n"
     ]
    }
   ],
   "source": [
    "output = model.predict(x_test,batch_size=32)\n",
    "print output"
   ]
  },
  {
   "cell_type": "code",
   "execution_count": 9,
   "metadata": {
    "collapsed": false
   },
   "outputs": [
    {
     "name": "stdout",
     "output_type": "stream",
     "text": [
      "(?, 784)\n"
     ]
    }
   ],
   "source": [
    "from keras.layers import Input, Dense\n",
    "from keras.models import Model\n",
    "\n",
    "# This returns a tensor\n",
    "inputs = Input(shape=(784,))\n",
    "\n",
    "print inputs.shape"
   ]
  },
  {
   "cell_type": "code",
   "execution_count": null,
   "metadata": {
    "collapsed": true
   },
   "outputs": [],
   "source": []
  }
 ],
 "metadata": {
  "anaconda-cloud": {},
  "kernelspec": {
   "display_name": "Python [tensorflow]",
   "language": "python",
   "name": "Python [tensorflow]"
  },
  "language_info": {
   "codemirror_mode": {
    "name": "ipython",
    "version": 2
   },
   "file_extension": ".py",
   "mimetype": "text/x-python",
   "name": "python",
   "nbconvert_exporter": "python",
   "pygments_lexer": "ipython2",
   "version": "2.7.12"
  }
 },
 "nbformat": 4,
 "nbformat_minor": 0
}
